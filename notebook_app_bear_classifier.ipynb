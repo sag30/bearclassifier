{
  "nbformat": 4,
  "nbformat_minor": 0,
  "metadata": {
    "colab": {
      "name": "notebook_app_bear_classifier",
      "provenance": [],
      "collapsed_sections": []
    },
    "kernelspec": {
      "name": "python3",
      "display_name": "Python 3"
    },
    "language_info": {
      "name": "python"
    }
  },
  "cells": [
    {
      "cell_type": "code",
      "metadata": {
        "id": "ix_L7edjE9_-"
      },
      "source": [
        "#!pip install voila\n",
        "#!jupyter serverextension enable --sys-prefix voila"
      ],
      "execution_count": null,
      "outputs": []
    },
    {
      "cell_type": "code",
      "metadata": {
        "id": "tZKP8y4cBSwA"
      },
      "source": [
        "from fastai.vision.all import *\n",
        "from fastai.vision.widgets import *"
      ],
      "execution_count": null,
      "outputs": []
    },
    {
      "cell_type": "markdown",
      "metadata": {
        "id": "lzrmyAqjBoCR"
      },
      "source": [
        "Bear Classlifier - Upload an image of a bear. The classifier will tell you whether it's a black,grizzly or teddy bear."
      ]
    },
    {
      "cell_type": "code",
      "metadata": {
        "id": "DAqMEg5HB43O"
      },
      "source": [
        "#load the pretrained model\n",
        "path = Path()\n",
        "learn_inf = load_learner(path/'export.pkl',cpu=True)"
      ],
      "execution_count": null,
      "outputs": []
    },
    {
      "cell_type": "code",
      "metadata": {
        "id": "WiNxF9qNPvOp"
      },
      "source": [
        "#Create an upload button for the user to upload an image\n",
        "upload_btn = widgets.FileUpload()\n",
        "\n",
        "#Create an output widget to display the image\n",
        "out_pl = widgets.Output()\n",
        "\n",
        "#Create a label widget to display the predictions\n",
        "lbl = widgets.Label()"
      ],
      "execution_count": null,
      "outputs": []
    },
    {
      "cell_type": "code",
      "metadata": {
        "id": "SeUPT48SCj0s"
      },
      "source": [
        "#Write the change event handler for the the upload button\n",
        "def on_change_upload(change):\n",
        "  lbl.value = ''\n",
        "  #Create an image object from the user uploaded file image\n",
        "  img = PILImage.create(upload_btn.data[-1])\n",
        "\n",
        "  #Display the user uploaded image\n",
        "  out_pl.clear_output()\n",
        "  with out_pl:display(img.to_thumb(128,128))\n",
        "\n",
        "  #Predict the class of the image using learner_inf model\n",
        "  pred,pred_idx,probs = learn_inf.predict(img)\n",
        "\n",
        "  #Display the predictions on a label\n",
        "  lbl.value = f'Prediction : {pred} ; Probability : {probs[pred_idx]:0.4f}'"
      ],
      "execution_count": null,
      "outputs": []
    },
    {
      "cell_type": "code",
      "metadata": {
        "id": "DUEc6uhhEECh"
      },
      "source": [
        "upload_btn.observe(on_change_upload, names=['data'])"
      ],
      "execution_count": null,
      "outputs": []
    },
    {
      "cell_type": "code",
      "metadata": {
        "id": "ZZKWO_0XENsk"
      },
      "source": [
        "display(VBox([widgets.Label('Select your bear'), upload_btn, displayim_out, pred_lbl]))"
      ],
      "execution_count": null,
      "outputs": []
    }
  ]
}